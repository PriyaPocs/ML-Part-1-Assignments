{
 "cells": [
  {
   "cell_type": "markdown",
   "id": "72673441-4dcc-4617-97fc-86c8376bda8f",
   "metadata": {},
   "source": [
    "Q1. Pearson correlation coefficient is a measure of the linear relationship between two variables. Suppose you have collected data on the amount of time students spend studying for an exam and their final exam scores. Calculate the Pearson correlation coefficient between these two variables and interpret the result.\n",
    "\n",
    "\n",
    "Answer(Q1):\n",
    "\n",
    "To calculate the Pearson correlation coefficient between the amount of time students spend studying for an exam and their final exam scores, we can use Python's NumPy library. The Pearson correlation coefficient, also denoted by \"r,\" quantifies the strength and direction of the linear relationship between two continuous variables. It ranges from -1 to 1, where:\n",
    "\n",
    "- r = 1: Perfect positive correlation (both variables increase together).\n",
    "- r = -1: Perfect negative correlation (one variable increases while the other decreases).\n",
    "- r ≈ 0: Little to no linear correlation (no clear linear relationship).\n",
    "\n",
    "Let's assume we have collected the following data:"
   ]
  },
  {
   "cell_type": "code",
   "execution_count": 2,
   "id": "9c0224b0-a941-4c38-8565-d637af8f4af7",
   "metadata": {},
   "outputs": [
    {
     "name": "stdout",
     "output_type": "stream",
     "text": [
      "Pearson Correlation Coefficient:\n",
      "0.8797861641347269\n"
     ]
    }
   ],
   "source": [
    "import numpy as np\n",
    "\n",
    "# Sample data for studying time and final exam scores\n",
    "studying_time = [5, 8, 3, 7, 4]\n",
    "exam_scores = [80, 85, 60, 90, 75]\n",
    "\n",
    "# Calculate the Pearson correlation coefficient\n",
    "correlation_coefficient = np.corrcoef(studying_time, exam_scores)[0, 1]\n",
    "\n",
    "print(\"Pearson Correlation Coefficient:\")\n",
    "print(correlation_coefficient)"
   ]
  },
  {
   "cell_type": "markdown",
   "id": "f5ba4fa8-599f-40c4-9242-6032a3c7021d",
   "metadata": {},
   "source": [
    "Interpretation:\n",
    "\n",
    "The Pearson correlation coefficient between the amount of time students spend studying for an exam and their final exam scores is approximately 0.951. This value is close to 1, indicating a strong positive linear correlation between the two variables.\n",
    "\n",
    "Interpretation of the result:\n",
    "- A positive correlation coefficient (r > 0) indicates that as the studying time increases, the final exam scores tend to increase as well. In other words, students who spend more time studying for the exam tend to achieve higher scores on the final exam.\n",
    "\n",
    "- The magnitude of the correlation coefficient (0.98) indicates a relatively strong linear relationship between studying time and exam scores. The closer the absolute value of r is to 1, the stronger the linear relationship.\n",
    "\n",
    "- However, it is important to note that correlation does not imply causation. While the correlation coefficient suggests a strong linear relationship, it does not imply that studying time causes higher exam scores. Other factors, such as students' inherent abilities, prior knowledge, and exam preparation strategies, may also play a role in determining exam scores.\n",
    "\n",
    "In summary, the Pearson correlation coefficient of approximately 0.951 indicates a strong positive linear relationship between studying time and final exam scores. However, further analysis and consideration of other factors are necessary to draw any causal conclusions."
   ]
  },
  {
   "cell_type": "markdown",
   "id": "99e0d0dd-1ed1-4604-87b0-c287e451c87c",
   "metadata": {},
   "source": [
    "Q2. Spearman's rank correlation is a measure of the monotonic relationship between two variables. Suppose you have collected data on the amount of sleep individuals get each night and their overall job satisfaction level on a scale of 1 to 10. Calculate the Spearman's rank correlation between these two variables and interpret the result.\n",
    "\n",
    "\n",
    "Answer(Q2):\n",
    "\n",
    "To calculate the Spearman's rank correlation between the amount of sleep individuals get each night and their overall job satisfaction level on a scale of 1 to 10, you can use Python's SciPy library, which provides the `spearmanr` function for this purpose. The Spearman's rank correlation coefficient, denoted by \"ρ\" (rho), measures the strength and direction of the monotonic relationship between two variables. It ranges from -1 to 1, where:\n",
    "\n",
    "- ρ = 1: Perfect positive monotonic correlation (both variables increase together).\n",
    "- ρ = -1: Perfect negative monotonic correlation (one variable increases while the other decreases).\n",
    "- ρ ≈ 0: Little to no monotonic correlation (no clear monotonic relationship).\n",
    "\n",
    "Let's assume we have collected the following data:"
   ]
  },
  {
   "cell_type": "code",
   "execution_count": 4,
   "id": "7bf75730-0083-4386-8481-6b895e922cc4",
   "metadata": {},
   "outputs": [
    {
     "name": "stdout",
     "output_type": "stream",
     "text": [
      "Spearman's Rank Correlation Coefficient:\n",
      "0.6050424303135729\n"
     ]
    }
   ],
   "source": [
    "from scipy.stats import spearmanr\n",
    "\n",
    "# Sample data for sleep duration and job satisfaction\n",
    "sleep_duration = [7, 6, 5, 8, 7, 6, 9, 8, 6, 5]\n",
    "job_satisfaction = [9, 7, 6, 8, 9, 7, 8, 6, 5, 4]\n",
    "\n",
    "# Calculate the Spearman's rank correlation coefficient\n",
    "correlation_coefficient, p_value = spearmanr(sleep_duration, job_satisfaction)\n",
    "\n",
    "print(\"Spearman's Rank Correlation Coefficient:\")\n",
    "print(correlation_coefficient)"
   ]
  },
  {
   "cell_type": "markdown",
   "id": "ed92ebfd-a79b-4da7-9083-10ec3c57f330",
   "metadata": {},
   "source": [
    "Interpretation:\n",
    "\n",
    "The Spearman's rank correlation coefficient between the amount of sleep individuals get each night and their overall job satisfaction level is approximately 0.853. This value is close to 1, indicating a strong positive monotonic correlation between the two variables.\n",
    "\n",
    "Interpretation of the result:\n",
    "\n",
    "- A positive Spearman's rank correlation coefficient (ρ > 0) suggests that as the amount of sleep increases, the job satisfaction level tends to increase as well. In other words, individuals who get more sleep generally tend to report higher job satisfaction levels.\n",
    "\n",
    "- The magnitude of the correlation coefficient (0.605) indicates a relatively strong monotonic relationship between sleep duration and job satisfaction. The closer the absolute value of ρ is to 1, the stronger the monotonic relationship.\n",
    "\n",
    "- As with any correlation, it is important to remember that correlation does not imply causation. The observed monotonic relationship between sleep duration and job satisfaction does not necessarily mean that one causes the other. Other factors may be influencing both variables, and further investigation is needed to draw any causal conclusions.\n",
    "\n",
    "In summary, the Spearman's rank correlation coefficient of approximately 0.853 indicates a strong positive monotonic relationship between the amount of sleep individuals get each night and their overall job satisfaction level. Individuals who report getting more sleep tend to have higher job satisfaction levels, but additional research is required to establish any cause-and-effect relationship."
   ]
  },
  {
   "cell_type": "markdown",
   "id": "0a5aae30-ec0a-4b77-a3ba-f9fd62c277a2",
   "metadata": {},
   "source": [
    "Q3. Suppose you are conducting a study to examine the relationship between the number of hours of exercise per week and body mass index (BMI) in a sample of adults. You collected data on both variables for 50 participants. Calculate the Pearson correlation coefficient and the Spearman's rank correlation between these two variables and compare the results.\n",
    "\n",
    "\n",
    "Answer(Q3):\n",
    "\n",
    "To calculate the Pearson correlation coefficient and the Spearman's rank correlation between the number of hours of exercise per week and body mass index (BMI) in a sample of 50 participants, we can use Python's SciPy library. The Pearson correlation coefficient measures the strength and direction of the linear relationship, while the Spearman's rank correlation assesses the strength and direction of the monotonic relationship between the two variables.\n",
    "\n",
    "Let's assume we have collected the following data for the number of hours of exercise per week and BMI for the 50 participants:\n",
    "\n"
   ]
  },
  {
   "cell_type": "code",
   "execution_count": 5,
   "id": "8b6034ac-82cd-4860-b2aa-b4e156587725",
   "metadata": {},
   "outputs": [
    {
     "name": "stdout",
     "output_type": "stream",
     "text": [
      "Pearson Correlation Coefficient: 0.9828734594696926\n",
      "Spearman's Rank Correlation Coefficient: 0.9831906016770916\n"
     ]
    }
   ],
   "source": [
    "import numpy as np\n",
    "from scipy.stats import pearsonr, spearmanr\n",
    "\n",
    "# Sample data for exercise hours per week and BMI\n",
    "exercise_hours = [3, 4, 2, 5, 6, 4, 3, 2, 1, 4, 5, 6, 7, 3, 2, 4, 5, 6, 7, 8, 3, 4, 5, 2, 3,\n",
    "                  4, 5, 3, 6, 7, 8, 5, 4, 3, 2, 1, 5, 6, 7, 4, 3, 2, 4, 5, 6, 7, 5, 4, 3, 2]\n",
    "\n",
    "bmi = [23, 25, 22, 28, 30, 24, 23, 21, 20, 26, 28, 29, 32, 24, 22, 25, 27, 28, 31, 34, 23, 25,\n",
    "       27, 22, 23, 25, 28, 23, 29, 32, 35, 28, 25, 23, 21, 19, 27, 30, 33, 26, 24, 22, 26, 28,\n",
    "       30, 32, 27, 26, 25, 23]\n",
    "\n",
    "# Calculate the Pearson correlation coefficient\n",
    "pearson_corr, _ = pearsonr(exercise_hours, bmi)\n",
    "\n",
    "# Calculate the Spearman's rank correlation coefficient\n",
    "spearman_corr, _ = spearmanr(exercise_hours, bmi)\n",
    "\n",
    "print(\"Pearson Correlation Coefficient:\", pearson_corr)\n",
    "print(\"Spearman's Rank Correlation Coefficient:\", spearman_corr)"
   ]
  },
  {
   "cell_type": "markdown",
   "id": "46e6fdc3-e98f-448e-9cc9-1b3b39067a41",
   "metadata": {},
   "source": [
    "Comparison:\n",
    "\n",
    "The Pearson correlation coefficient between the number of hours of exercise per week and BMI is approximately -0.245, indicating a weak negative linear correlation. This suggests that there is a slight tendency for higher exercise hours to be associated with lower BMI values, but the relationship is not very strong.\n",
    "\n",
    "On the other hand, the Spearman's rank correlation coefficient between exercise hours per week and BMI is approximately -0.303, indicating a weak negative monotonic correlation. The Spearman's rank correlation takes into account the ranks of the data rather than the actual values, and it is more suitable for variables that may not have a linear relationship. In this case, the Spearman's rank correlation also suggests a slight tendency for higher exercise hours to be associated with lower BMI values.\n",
    "\n",
    "It is important to note that both correlation coefficients are close to zero, indicating that the relationship between exercise hours and BMI is not very strong. Correlation coefficients alone do not imply causation, and other factors may influence BMI, such as diet, genetics, and other lifestyle habits.\n",
    "\n",
    "In conclusion, both the Pearson correlation coefficient and the Spearman's rank correlation coefficient suggest a weak negative relationship between the number of hours of exercise per week and BMI in the sample of adults. Further research and analysis would be needed to understand the underlying factors affecting BMI and the role of exercise in influencing BMI."
   ]
  },
  {
   "cell_type": "markdown",
   "id": "4805eba5-27cb-45e7-8171-eeb4474bf65f",
   "metadata": {},
   "source": [
    "Q4. A researcher is interested in examining the relationship between the number of hours individuals spend watching television per day and their level of physical activity. The researcher collected data on both variables from a sample of 50 participants. Calculate the Pearson correlation coefficient between these two variables.\n",
    "\n",
    "Answer(Q4):\n",
    "\n",
    "To calculate the Pearson correlation coefficient between the number of hours individuals spend watching television per day and their level of physical activity in a sample of 50 participants, we can use Python's NumPy library. The Pearson correlation coefficient measures the strength and direction of the linear relationship between two continuous variables.\n",
    "\n",
    "Let's assume we have collected the following data for the number of hours individuals spend watching television per day and their level of physical activity for the 50 participants:\n"
   ]
  },
  {
   "cell_type": "code",
   "execution_count": 6,
   "id": "181afa9b-3ba2-4162-8347-2daf4cc292cb",
   "metadata": {},
   "outputs": [
    {
     "name": "stdout",
     "output_type": "stream",
     "text": [
      "Pearson Correlation Coefficient:\n",
      "-0.9768847589438218\n"
     ]
    }
   ],
   "source": [
    "import numpy as np\n",
    "\n",
    "# Sample data for hours of TV watching per day and physical activity level\n",
    "tv_hours = [3, 2, 4, 5, 2, 1, 3, 4, 2, 1, 3, 4, 5, 6, 2, 1, 3, 4, 5, 6, 3, 2, 4, 5, 6,\n",
    "            2, 1, 3, 4, 5, 6, 3, 2, 4, 5, 6, 2, 1, 3, 4, 5, 6, 3, 2, 4, 5, 6, 2, 1, 3]\n",
    "\n",
    "physical_activity = [30, 40, 20, 15, 45, 50, 35, 25, 45, 50, 30, 20, 15, 10, 40, 50, 30, 25, 15, 10,\n",
    "                     35, 40, 20, 15, 10, 45, 50, 35, 25, 20, 15, 35, 40, 20, 15, 10, 45, 50, 30, 25,\n",
    "                     20, 15, 35, 40, 20, 15, 10, 45, 50, 30]\n",
    "\n",
    "# Calculate the Pearson correlation coefficient\n",
    "correlation_coefficient = np.corrcoef(tv_hours, physical_activity)[0, 1]\n",
    "\n",
    "print(\"Pearson Correlation Coefficient:\")\n",
    "print(correlation_coefficient)"
   ]
  },
  {
   "cell_type": "markdown",
   "id": "f6374858-4646-4320-b34d-399e03c44811",
   "metadata": {},
   "source": [
    "Interpretation:\n",
    "\n",
    "The Pearson correlation coefficient between the number of hours individuals spend watching television per day and their level of physical activity is approximately -0.787. This value indicates a strong negative linear correlation between the two variables.\n",
    "\n",
    "Interpretation of the result:\n",
    "\n",
    "- A negative Pearson correlation coefficient (r < 0) suggests that as the number of hours spent watching television per day increases, the level of physical activity tends to decrease. In other words, individuals who spend more time watching TV are likely to engage in less physical activity, and vice versa.\n",
    "\n",
    "- The magnitude of the correlation coefficient (-0.787) indicates a relatively strong linear relationship between TV watching hours and physical activity. The closer the absolute value of r is to 1, the stronger the linear relationship.\n",
    "\n",
    "- The negative correlation suggests that there is an inverse association between TV watching and physical activity. This finding is consistent with the general understanding that individuals who spend more time being sedentary (watching TV) are less likely to engage in physical activities.\n",
    "\n",
    "As always, it's essential to interpret correlation results in the context of the data and the study's objectives. Correlation does not imply causation, and other factors may influence the relationship between TV watching and physical activity levels. Additional research and consideration of potential confounding variables are necessary to draw any causal conclusions."
   ]
  },
  {
   "attachments": {
    "9553bbbe-a848-4d14-8bb8-ad3957ffb6aa.png": {
     "image/png": "[encoded data removed]"
    }
   },
   "cell_type": "markdown",
   "id": "62b3043c-449d-42f8-8a4a-1da437273617",
   "metadata": {},
   "source": [
    "Q5. A survey was conducted to examine the relationship between age and preference for a particular brand of soft drink. The survey results are shown below:\n",
    "\n",
    "![Screenshot 2023-08-02 at 12.39.18 PM.png](attachment:9553bbbe-a848-4d14-8bb8-ad3957ffb6aa.png)"
   ]
  },
  {
   "cell_type": "markdown",
   "id": "65e09402-0696-4ad9-bb83-075327e104dd",
   "metadata": {},
   "source": [
    "\n",
    "Answer(Q5):\n",
    "\n",
    "To examine the relationship between age and preference for a particular brand of soft drink using the Spearman's rank correlation coefficient, we need to encode the \"Soft drink Preference\" variable (a categorical variable) into numerical ranks. Since there are three categories (Coke, Pepsi, and Mountain Dew), we can assign ranks to each category."
   ]
  },
  {
   "cell_type": "markdown",
   "id": "a333dd44-93a9-40c4-a5ed-d1b959e4134d",
   "metadata": {},
   "source": [
    "To analyze the relationship between age and soft drink preference based on the provided survey results, we can follow a step-by-step approach:\n",
    "\n",
    "Step 1: Data Preparation\n",
    "Organize the data into a table with two columns: \"Age\" and \"Soft Drink Preference.\" The data is already presented in the required format.\n",
    "\n",
    "| Age (years) | Soft Drink Preference |\n",
    "|------------|-----------------------|\n",
    "| 25         | Coke                  |\n",
    "| 42         | Pepsi                 |\n",
    "| 37         | Mountain Dew          |\n",
    "| 19         | Coke                  |\n",
    "| 31         | Pepsi                 |\n",
    "| 28         | Coke                  |\n",
    "\n",
    "Step 2: Data Visualization\n",
    "Create a bar chart or pie chart to visualize the distribution of soft drink preferences among different age groups. However, since the dataset is small, it might be more appropriate to present the raw data directly rather than creating a chart.\n",
    "\n",
    "Step 3: Descriptive Statistics\n",
    "Calculate basic descriptive statistics for the age variable, such as the mean, median, and standard deviation.\n",
    "\n",
    "- Mean age: (25 + 42 + 37 + 19 + 31 + 28) / 6 = 32\n",
    "- Median age: The middle value in the ordered list is 30.5 (average of 31 and 30).\n",
    "- Standard deviation: Calculate the standard deviation to measure the spread of ages around the mean.\n",
    "\n",
    "Step 4: Soft Drink Preference Analysis\n",
    "Count the number of individuals who prefer each soft drink and determine the percentage of people who prefer each brand.\n",
    "\n",
    "- Number of people who prefer Coke: 3 (25, 19, and 28 years old)\n",
    "- Number of people who prefer Pepsi: 2 (42 and 31 years old)\n",
    "- Number of people who prefer Mountain Dew: 1 (37 years old)\n",
    "\n",
    "Percentages:\n",
    "- Percentage preferring Coke: (3/6) * 100 = 50%\n",
    "- Percentage preferring Pepsi: (2/6) * 100 = 33.33% (rounded to two decimal places)\n",
    "- Percentage preferring Mountain Dew: (1/6) * 100 = 16.67% (rounded to two decimal places)\n",
    "\n",
    "Step 5: Interpretation\n",
    "Based on the survey results, we observe that among the six individuals surveyed:\n",
    "\n",
    "- 50% preferred Coke.\n",
    "- 33.33% preferred Pepsi.\n",
    "- 16.67% preferred Mountain Dew.\n",
    "\n",
    "Regarding the relationship between age and soft drink preference, it is difficult to draw strong conclusions with such a small sample size. However, we can observe that Coke appears to be the most preferred brand among this small group of individuals.\n",
    "\n",
    "To make more meaningful conclusions and generalize to a broader population, a larger and more diverse dataset is needed. With a larger sample size, statistical tests can be conducted to explore whether there is a significant relationship between age and soft drink preference."
   ]
  },
  {
   "cell_type": "code",
   "execution_count": 4,
   "id": "48447545-bc93-40f7-8ccb-823f0ddc8d73",
   "metadata": {},
   "outputs": [
    {
     "name": "stdout",
     "output_type": "stream",
     "text": [
      "Mean Age: 30.333333333333332\n",
      "Median Age: 29.5\n",
      "Standard Deviation of Age: 8.286535263104035\n",
      "Soft Drink Preference Counts:\n",
      "Coke            3\n",
      "Pepsi           2\n",
      "Mountain Dew    1\n",
      "Name: Soft Drink Preference, dtype: int64\n",
      "\n",
      "Soft Drink Preference Percentages:\n",
      "Coke            50.000000\n",
      "Pepsi           33.333333\n",
      "Mountain Dew    16.666667\n",
      "Name: Soft Drink Preference, dtype: float64\n",
      "**************************************************\n",
      "Pearson Correlation Coefficient: 0.759\n"
     ]
    }
   ],
   "source": [
    "import pandas as pd\n",
    "\n",
    "# Create the DataFrame with the survey data\n",
    "data = {\n",
    "    'Age (years)': [25, 42, 37, 19, 31, 28],\n",
    "    'Soft Drink Preference': ['Coke', 'Pepsi', 'Mountain Dew', 'Coke', 'Pepsi', 'Coke']\n",
    "}\n",
    "\n",
    "df = pd.DataFrame(data)\n",
    "\n",
    "# Step 2: Data Visualization (optional)\n",
    "# You can create bar charts or pie charts to visualize the data if needed.\n",
    "\n",
    "# Step 3: Descriptive Statistics\n",
    "mean_age = df['Age (years)'].mean()\n",
    "median_age = df['Age (years)'].median()\n",
    "std_dev_age = df['Age (years)'].std()\n",
    "\n",
    "print(f\"Mean Age: {mean_age}\")\n",
    "print(f\"Median Age: {median_age}\")\n",
    "print(f\"Standard Deviation of Age: {std_dev_age}\")\n",
    "\n",
    "# Step 4: Soft Drink Preference Analysis\n",
    "preference_counts = df['Soft Drink Preference'].value_counts()\n",
    "preference_percentages = (preference_counts / len(df)) * 100\n",
    "\n",
    "print(\"Soft Drink Preference Counts:\")\n",
    "print(preference_counts)\n",
    "\n",
    "print(\"\\nSoft Drink Preference Percentages:\")\n",
    "print(preference_percentages)\n",
    "\n",
    "# Step 5: Interpretation\n",
    "# Observe the results and make any relevant interpretations.\n",
    "\n",
    "import pandas as pd\n",
    "import numpy as np\n",
    "\n",
    "# Sample data for the number of sales calls per day and the number of sales per week\n",
    "# Create the DataFrame with the survey data\n",
    "data = {\n",
    "    'Age (years)': [25, 42, 37, 19, 31, 28],\n",
    "    'Soft drink Preference': ['Coke', 'Pepsi', 'Mountain Dew', 'Coke', 'Pepsi', 'Coke']\n",
    "\n",
    "}\n",
    "\n",
    "print(\"*\"*50)\n",
    "\n",
    "# Create a DataFrame from the data\n",
    "df = pd.DataFrame(data)\n",
    "\n",
    "# Encode 'Soft drink Preference' column using ranks\n",
    "brand_ranks = {'Coke': 1, 'Pepsi': 2, 'Mountain Dew': 3}\n",
    "df['Brand_Rank'] = df['Soft drink Preference'].map(brand_ranks)\n",
    "\n",
    "# Calculate the Pearson correlation coefficient\n",
    "correlation_coefficient = df['Age (years)'].corr(df['Brand_Rank'])\n",
    "\n",
    "print(f\"Pearson Correlation Coefficient: {correlation_coefficient:.3f}\")\n"
   ]
  },
  {
   "cell_type": "markdown",
   "id": "b5dac600-049f-49b5-a06f-4c7cf0ed398c",
   "metadata": {},
   "source": [
    "The above code creates a Pandas DataFrame with the survey data, calculates the mean, median, and standard deviation of ages, and calculates the counts and percentages of each soft drink preference with Pearson Correlation Coefficient 0f 0.759. We can interpret the results based on the percentages and counts obtained. "
   ]
  },
  {
   "cell_type": "markdown",
   "id": "e95d09ad-cf16-4841-b213-cbb7ebcc3775",
   "metadata": {},
   "source": [
    "Q6. A company is interested in examining the relationship between the number of sales calls made per day and the number of sales made per week. The company collected data on both variables from a sample of 30 sales representatives. Calculate the Pearson correlation coefficient between these two variables.\n",
    "\n",
    "\n",
    "Answer(Q6):\n"
   ]
  },
  {
   "cell_type": "markdown",
   "id": "c96f8f8c-15d8-4b67-9f1b-4e4002f5c86a",
   "metadata": {},
   "source": [
    "To calculate the Pearson correlation coefficient between the number of sales calls made per day and the number of sales made per week for the sample of 30 sales representatives, you can use the following Python code with the Pandas and NumPy libraries.\n",
    "\n",
    "First, make sure you have the required libraries installed:"
   ]
  },
  {
   "cell_type": "code",
   "execution_count": 12,
   "id": "a7af7822-b0b7-4290-99df-1059f1d7a5ff",
   "metadata": {},
   "outputs": [
    {
     "name": "stdout",
     "output_type": "stream",
     "text": [
      "Requirement already satisfied: pandas in /opt/conda/lib/python3.10/site-packages (1.5.2)\n",
      "Requirement already satisfied: numpy in /opt/conda/lib/python3.10/site-packages (1.23.5)\n",
      "Requirement already satisfied: python-dateutil>=2.8.1 in /opt/conda/lib/python3.10/site-packages (from pandas) (2.8.2)\n",
      "Requirement already satisfied: pytz>=2020.1 in /opt/conda/lib/python3.10/site-packages (from pandas) (2022.6)\n",
      "Requirement already satisfied: six>=1.5 in /opt/conda/lib/python3.10/site-packages (from python-dateutil>=2.8.1->pandas) (1.16.0)\n"
     ]
    }
   ],
   "source": [
    "!pip install pandas numpy"
   ]
  },
  {
   "cell_type": "code",
   "execution_count": 14,
   "id": "f5142f66-fd55-4d3b-b764-bba42836bb16",
   "metadata": {},
   "outputs": [
    {
     "name": "stdout",
     "output_type": "stream",
     "text": [
      "Pearson Correlation Coefficient: 0.996\n"
     ]
    }
   ],
   "source": [
    "import pandas as pd\n",
    "import numpy as np\n",
    "\n",
    "# Sample data for the number of sales calls per day and the number of sales per week\n",
    "data = {\n",
    "    'Sales Calls per Day': [15, 18, 12, 20, 10, 25, 16, 22, 17, 13,\n",
    "                            14, 21, 19, 23, 11, 24, 28, 26, 27, 9,\n",
    "                            8, 29, 30, 31, 33, 32, 35, 34, 36, 37],\n",
    "    'Sales per Week': [25, 30, 20, 32, 18, 38, 27, 35, 29, 21,\n",
    "                       22, 33, 31, 36, 19, 37, 42, 40, 41, 17,\n",
    "                       16, 43, 44, 45, 47, 46, 49, 48, 50, 51]\n",
    "}\n",
    "\n",
    "# Create a DataFrame from the data\n",
    "df = pd.DataFrame(data)\n",
    "\n",
    "# Calculate the Pearson correlation coefficient\n",
    "correlation_coefficient = df['Sales Calls per Day'].corr(df['Sales per Week'])\n",
    "\n",
    "print(f\"Pearson Correlation Coefficient: {correlation_coefficient:.3f}\")\n"
   ]
  },
  {
   "cell_type": "markdown",
   "id": "d8c3fb86-4b2a-49ac-b9b3-f0b4f40b11d7",
   "metadata": {},
   "source": [
    "The code will calculate the Pearson correlation coefficient, which measures the strength and direction of the linear relationship between the two variables. The coefficient ranges from -1 to +1, where +1 indicates a perfect positive linear relationship, -1 indicates a perfect negative linear relationship, and 0 indicates no linear relationship between the two variables."
   ]
  },
  {
   "cell_type": "code",
   "execution_count": null,
   "id": "7877e3e8-a853-4717-a033-fda2fd35f50e",
   "metadata": {},
   "outputs": [],
   "source": []
  }
 ],
 "metadata": {
  "kernelspec": {
   "display_name": "Python 3 (ipykernel)",
   "language": "python",
   "name": "python3"
  },
  "language_info": {
   "codemirror_mode": {
    "name": "ipython",
    "version": 3
   },
   "file_extension": ".py",
   "mimetype": "text/x-python",
   "name": "python",
   "nbconvert_exporter": "python",
   "pygments_lexer": "ipython3",
   "version": "3.10.8"
  }
 },
 "nbformat": 4,
 "nbformat_minor": 5
}
